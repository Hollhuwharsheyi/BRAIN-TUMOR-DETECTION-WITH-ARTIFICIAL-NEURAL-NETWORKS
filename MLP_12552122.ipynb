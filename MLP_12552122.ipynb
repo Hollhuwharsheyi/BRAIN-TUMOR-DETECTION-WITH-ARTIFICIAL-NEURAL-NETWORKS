{
 "cells": [
  {
   "cell_type": "code",
   "execution_count": 2,
   "id": "7017f37a",
   "metadata": {},
   "outputs": [
    {
     "name": "stderr",
     "output_type": "stream",
     "text": [
      "C:\\ProgramData\\Anaconda3\\lib\\site-packages\\scipy\\__init__.py:146: UserWarning: A NumPy version >=1.16.5 and <1.23.0 is required for this version of SciPy (detected version 1.23.2\n",
      "  warnings.warn(f\"A NumPy version >={np_minversion} and <{np_maxversion}\"\n"
     ]
    },
    {
     "name": "stdout",
     "output_type": "stream",
     "text": [
      "Types options found:  2\n"
     ]
    }
   ],
   "source": [
    "import numpy as np \n",
    "import pandas as pd \n",
    "import matplotlib.pyplot as plt\n",
    "import os\n",
    "import seaborn as sns\n",
    "from PIL import Image\n",
    "\n",
    "imagedataset = str(\"C:/Users/DELL/archive2\")\n",
    "\n",
    "dataset_path = os.listdir(imagedataset)\n",
    "\n",
    "image_types = os.listdir(imagedataset)\n",
    "#print (room_types)  #what kinds of rooms are in this dataset\n",
    "\n",
    "print(\"Types options found: \", len(dataset_path))"
   ]
  },
  {
   "cell_type": "code",
   "execution_count": 3,
   "id": "ae301838",
   "metadata": {},
   "outputs": [],
   "source": [
    "images = []\n",
    "\n",
    "for item in image_types:\n",
    " # Get all the file names\n",
    " all_image = os.listdir(imagedataset + '/' +item)\n",
    " #print(all_shoes)\n",
    "\n",
    " # Add them to the list\n",
    " for image in all_image:\n",
    "    images.append((item, str(imagedataset + '/' + item) + '/' + image))\n",
    "    #print(rooms[:1])\n"
   ]
  },
  {
   "cell_type": "code",
   "execution_count": 4,
   "id": "40d3bb49",
   "metadata": {},
   "outputs": [],
   "source": [
    "# Build a dataframe        \n",
    "images_df = pd.DataFrame(data=images, columns=['image type', 'image'])\n",
    "#print(images_df.head())\n",
    "#print(images_df.tail())"
   ]
  },
  {
   "cell_type": "code",
   "execution_count": 5,
   "id": "452a837b",
   "metadata": {},
   "outputs": [
    {
     "name": "stdout",
     "output_type": "stream",
     "text": [
      "Total number of images in the dataset:  3000\n",
      "no     1500\n",
      "yes    1500\n",
      "Name: image type, dtype: int64\n"
     ]
    }
   ],
   "source": [
    "\n",
    "# Let's check how many samples for each category are present\n",
    "print(\"Total number of images in the dataset: \", len(images_df))\n",
    "\n",
    "image_count = images_df['image type'].value_counts()\n",
    "print(image_count)"
   ]
  },
  {
   "cell_type": "code",
   "execution_count": 6,
   "id": "99c53c5f",
   "metadata": {},
   "outputs": [
    {
     "name": "stdout",
     "output_type": "stream",
     "text": [
      "Count for NO:  1500\n",
      "Count for YES:  1500\n"
     ]
    }
   ],
   "source": [
    "import cv2\n",
    "path = str(\"C:/Users/DELL/archive2/\")\n",
    "\n",
    "\n",
    "im_size = 300\n",
    "\n",
    "images = []\n",
    "labels = []\n",
    "\n",
    "for i in image_types:\n",
    "    data_path = path + str(i)  # entered in 1st folder and then 2nd folder and then 3rd folder\n",
    "    filenames = [i for i in os.listdir(data_path) ]\n",
    "   # print(filenames)  # will get the names of all images\n",
    "    for f in filenames:\n",
    "        img = cv2.imread(data_path + '/' + f)  # reading that image as array\n",
    "        #print(img)  # will get the image as an array\n",
    "        img = cv2.resize(img, (im_size, im_size))\n",
    "        images.append(img)\n",
    "        labels.append(i)\n",
    "    \n",
    "print(\"Count for NO: \", labels.count(\"no\"))\n",
    "print(\"Count for YES: \", labels.count(\"yes\"))"
   ]
  },
  {
   "cell_type": "code",
   "execution_count": 7,
   "id": "3d84f854",
   "metadata": {},
   "outputs": [
    {
     "data": {
      "text/plain": [
       "(3000, 300, 300, 3)"
      ]
     },
     "execution_count": 7,
     "metadata": {},
     "output_type": "execute_result"
    }
   ],
   "source": [
    "# Transform the image array to a numpy type\n",
    "images = np.array(images)\n",
    "images.shape   "
   ]
  },
  {
   "cell_type": "code",
   "execution_count": 8,
   "id": "39b9f036",
   "metadata": {},
   "outputs": [
    {
     "name": "stdout",
     "output_type": "stream",
     "text": [
      "['no' 'no' 'no' 'no' 'no']\n"
     ]
    }
   ],
   "source": [
    "images = images.astype('float32') / 255.0\n",
    "\n",
    "from sklearn.preprocessing import LabelEncoder , OneHotEncoder\n",
    "y=images_df['image type'].values\n",
    "print(y[:5])"
   ]
  },
  {
   "cell_type": "code",
   "execution_count": 9,
   "id": "3825f8a1",
   "metadata": {},
   "outputs": [
    {
     "name": "stdout",
     "output_type": "stream",
     "text": [
      "[0 0 0 ... 1 1 1]\n"
     ]
    }
   ],
   "source": [
    "\n",
    "# for y\n",
    "y_labelencoder = LabelEncoder ()\n",
    "y = y_labelencoder.fit_transform (y)\n",
    "print (y)\n",
    "\n",
    "##y=y.reshape(-1,1)\n",
    "##onehotencoder = OneHotEncoder(categories='auto')  #Converted  scalar output into vector output where the correct class will be 1 and other will be 0\n",
    "##Y= onehotencoder.fit_transform(y)\n",
    "##Y.shape  #(3000, 2)\n",
    "##print(y[:3000])\n"
   ]
  },
  {
   "cell_type": "code",
   "execution_count": 10,
   "id": "eca07b84",
   "metadata": {},
   "outputs": [
    {
     "name": "stdout",
     "output_type": "stream",
     "text": [
      "(2850, 300, 300, 3)\n",
      "(2850,)\n",
      "(150, 300, 300, 3)\n",
      "(150,)\n",
      "[0 0 1 0 1 0 1 1 0 1 1 0 1 1 1 0 0 0 1 1 1 1 0 0 0 0 1 1 1 0 1 0 0 0 1 1 1\n",
      " 1 0 1 1 0 0 0 1 1 1 0 0 0 0 0 1 1 1 1 1 1 0 0 1 0 1 0 0 0 1 0 0 0 0 1 0 1\n",
      " 1 1 1 0 0 0 1 0 0 1 0 0 0 0 0 1 0 1 0 1 0 0 1 0 0 1 1 0 1 1 1 0 0 0 1 1 1\n",
      " 0 1 0 0 1 0 1 1 1 0 0 0 0 0 1 1 0 0 0 0 0 1 0 0 1 0 1 0 0 0 1 1 1 1 0 0 1\n",
      " 1 0]\n"
     ]
    }
   ],
   "source": [
    "from sklearn.utils import shuffle\n",
    "from sklearn.model_selection import train_test_split\n",
    "\n",
    "\n",
    "images, y = shuffle(images, y, random_state=1)\n",
    "\n",
    "train_x, test_x, train_y, test_y = train_test_split(images, y, test_size=0.05, random_state=415)\n",
    "\n",
    "#inpect the shape of the training and testing.\n",
    "print(train_x.shape)\n",
    "print(train_y.shape)\n",
    "print(test_x.shape)\n",
    "print(test_y.shape)\n",
    "print(test_y)"
   ]
  },
  {
   "cell_type": "code",
   "execution_count": 11,
   "id": "28a694d6",
   "metadata": {},
   "outputs": [],
   "source": [
    "# Develop a sequential model using keras\n",
    "import keras\n",
    "import  tensorflow as tf\n",
    "model = keras.Sequential([\n",
    "    keras.layers.Flatten(input_shape=(300,300,3)),\n",
    "    keras.layers.Dense(256, activation=tf.nn.tanh),\n",
    "    keras.layers.Dense(2, activation=tf.nn.softmax)\n",
    "])"
   ]
  },
  {
   "cell_type": "code",
   "execution_count": 12,
   "id": "9558ebf3",
   "metadata": {},
   "outputs": [
    {
     "name": "stdout",
     "output_type": "stream",
     "text": [
      "Model: \"sequential\"\n",
      "_________________________________________________________________\n",
      " Layer (type)                Output Shape              Param #   \n",
      "=================================================================\n",
      " flatten (Flatten)           (None, 270000)            0         \n",
      "                                                                 \n",
      " dense (Dense)               (None, 256)               69120256  \n",
      "                                                                 \n",
      " dense_1 (Dense)             (None, 2)                 514       \n",
      "                                                                 \n",
      "=================================================================\n",
      "Total params: 69,120,770\n",
      "Trainable params: 69,120,770\n",
      "Non-trainable params: 0\n",
      "_________________________________________________________________\n"
     ]
    }
   ],
   "source": [
    "model.summary()"
   ]
  },
  {
   "cell_type": "code",
   "execution_count": 13,
   "id": "bc98eef3",
   "metadata": {},
   "outputs": [],
   "source": [
    "#Compute the model parameters\n",
    "\n",
    "#model.compile(optimizer=tf.train.Adam(),\n",
    "#             loss='sparse_categorical_crossentropy',\n",
    "#             metrics=['accuracy'])\n",
    "\n",
    "model.compile(optimizer=tf.optimizers.Adam(), loss='sparse_categorical_crossentropy', metrics=['accuracy'])"
   ]
  },
  {
   "cell_type": "code",
   "execution_count": 14,
   "id": "86b6e7aa",
   "metadata": {},
   "outputs": [
    {
     "name": "stdout",
     "output_type": "stream",
     "text": [
      "Epoch 1/30\n",
      "90/90 [==============================] - 52s 544ms/step - loss: 4.0262 - accuracy: 0.5053 - val_loss: 0.7077 - val_accuracy: 0.4667\n",
      "Epoch 2/30\n",
      "90/90 [==============================] - 47s 524ms/step - loss: 0.6953 - accuracy: 0.4933 - val_loss: 0.6911 - val_accuracy: 0.5333\n",
      "Epoch 3/30\n",
      "90/90 [==============================] - 53s 590ms/step - loss: 0.6959 - accuracy: 0.5116 - val_loss: 0.6932 - val_accuracy: 0.5333\n",
      "Epoch 4/30\n",
      "90/90 [==============================] - 46s 512ms/step - loss: 0.6968 - accuracy: 0.5074 - val_loss: 0.6916 - val_accuracy: 0.5333\n",
      "Epoch 5/30\n",
      "90/90 [==============================] - 46s 511ms/step - loss: 0.6986 - accuracy: 0.4961 - val_loss: 0.6914 - val_accuracy: 0.5333\n",
      "Epoch 6/30\n",
      "90/90 [==============================] - 45s 504ms/step - loss: 0.6997 - accuracy: 0.5109 - val_loss: 0.6972 - val_accuracy: 0.5333\n",
      "Epoch 7/30\n",
      "90/90 [==============================] - 48s 533ms/step - loss: 0.6970 - accuracy: 0.4975 - val_loss: 0.6950 - val_accuracy: 0.4667\n",
      "Epoch 8/30\n",
      "90/90 [==============================] - 50s 558ms/step - loss: 0.6969 - accuracy: 0.4968 - val_loss: 0.6912 - val_accuracy: 0.5333\n",
      "Epoch 9/30\n",
      "90/90 [==============================] - 45s 503ms/step - loss: 0.6956 - accuracy: 0.5025 - val_loss: 0.6946 - val_accuracy: 0.4667\n",
      "Epoch 10/30\n",
      "90/90 [==============================] - 48s 537ms/step - loss: 0.6976 - accuracy: 0.5060 - val_loss: 0.7068 - val_accuracy: 0.4667\n",
      "Epoch 11/30\n",
      "90/90 [==============================] - 48s 532ms/step - loss: 0.6976 - accuracy: 0.4982 - val_loss: 0.7212 - val_accuracy: 0.4667\n",
      "Epoch 12/30\n",
      "90/90 [==============================] - 45s 504ms/step - loss: 0.6974 - accuracy: 0.5046 - val_loss: 0.6914 - val_accuracy: 0.5333\n",
      "Epoch 13/30\n",
      "90/90 [==============================] - 45s 503ms/step - loss: 0.7087 - accuracy: 0.4905 - val_loss: 0.7049 - val_accuracy: 0.4667\n",
      "Epoch 14/30\n",
      "90/90 [==============================] - 45s 502ms/step - loss: 0.7049 - accuracy: 0.4814 - val_loss: 0.6909 - val_accuracy: 0.5333\n",
      "Epoch 15/30\n",
      "90/90 [==============================] - 46s 511ms/step - loss: 0.7000 - accuracy: 0.4856 - val_loss: 0.7532 - val_accuracy: 0.5333\n",
      "Epoch 16/30\n",
      "90/90 [==============================] - 50s 556ms/step - loss: 0.7118 - accuracy: 0.5032 - val_loss: 0.7046 - val_accuracy: 0.5333\n",
      "Epoch 17/30\n",
      "90/90 [==============================] - 46s 515ms/step - loss: 0.6994 - accuracy: 0.5025 - val_loss: 0.7246 - val_accuracy: 0.5333\n",
      "Epoch 18/30\n",
      "90/90 [==============================] - 46s 515ms/step - loss: 0.7177 - accuracy: 0.4947 - val_loss: 0.7114 - val_accuracy: 0.4667\n",
      "Epoch 19/30\n",
      "90/90 [==============================] - 45s 501ms/step - loss: 0.7018 - accuracy: 0.4975 - val_loss: 0.6909 - val_accuracy: 0.5333\n",
      "Epoch 20/30\n",
      "90/90 [==============================] - 46s 508ms/step - loss: 0.6994 - accuracy: 0.5018 - val_loss: 0.7432 - val_accuracy: 0.4667\n",
      "Epoch 21/30\n",
      "90/90 [==============================] - 51s 568ms/step - loss: 0.7047 - accuracy: 0.5011 - val_loss: 0.7167 - val_accuracy: 0.5333\n",
      "Epoch 22/30\n",
      "90/90 [==============================] - 61s 676ms/step - loss: 0.7084 - accuracy: 0.5067 - val_loss: 0.7061 - val_accuracy: 0.4667\n",
      "Epoch 23/30\n",
      "90/90 [==============================] - 66s 737ms/step - loss: 0.7071 - accuracy: 0.4947 - val_loss: 0.6961 - val_accuracy: 0.5333\n",
      "Epoch 24/30\n",
      "90/90 [==============================] - 65s 724ms/step - loss: 0.7033 - accuracy: 0.4884 - val_loss: 0.7050 - val_accuracy: 0.5333\n",
      "Epoch 25/30\n",
      "90/90 [==============================] - 72s 789ms/step - loss: 0.7042 - accuracy: 0.4954 - val_loss: 0.7043 - val_accuracy: 0.4667\n",
      "Epoch 26/30\n",
      "90/90 [==============================] - 58s 645ms/step - loss: 0.7006 - accuracy: 0.4814 - val_loss: 0.7044 - val_accuracy: 0.5333\n",
      "Epoch 27/30\n",
      "90/90 [==============================] - 45s 499ms/step - loss: 0.6996 - accuracy: 0.5088 - val_loss: 0.6914 - val_accuracy: 0.5333\n",
      "Epoch 28/30\n",
      "90/90 [==============================] - 50s 554ms/step - loss: 0.7006 - accuracy: 0.5046 - val_loss: 0.7350 - val_accuracy: 0.4667\n",
      "Epoch 29/30\n",
      "90/90 [==============================] - 64s 709ms/step - loss: 0.6999 - accuracy: 0.5074 - val_loss: 0.6913 - val_accuracy: 0.5333\n",
      "Epoch 30/30\n",
      "90/90 [==============================] - 55s 608ms/step - loss: 0.6998 - accuracy: 0.4933 - val_loss: 0.6945 - val_accuracy: 0.4667\n"
     ]
    }
   ],
   "source": [
    "MLP_model = model.fit(train_x,train_y, validation_data=(test_x, test_y), epochs=30)\n"
   ]
  },
  {
   "cell_type": "code",
   "execution_count": 15,
   "id": "177fa135",
   "metadata": {},
   "outputs": [
    {
     "name": "stdout",
     "output_type": "stream",
     "text": [
      "5/5 [==============================] - 2s 210ms/step\n",
      "[1 1 1 1 1 1 1 1 1 1 1 1 1 1 1 1 1 1 1 1 1 1 1 1 1 1 1 1 1 1 1 1 1 1 1 1 1\n",
      " 1 1 1 1 1 1 1 1 1 1 1 1 1 1 1 1 1 1 1 1 1 1 1 1 1 1 1 1 1 1 1 1 1 1 1 1 1\n",
      " 1 1 1 1 1 1 1 1 1 1 1 1 1 1 1 1 1 1 1 1 1 1 1 1 1 1 1 1 1 1 1 1 1 1 1 1 1\n",
      " 1 1 1 1 1 1 1 1 1 1 1 1 1 1 1 1 1 1 1 1 1 1 1 1 1 1 1 1 1 1 1 1 1 1 1 1 1\n",
      " 1 1]\n"
     ]
    }
   ],
   "source": [
    "Y_pred = np.argmax(model.predict(test_x),axis=1)\n",
    "print(Y_pred)"
   ]
  },
  {
   "cell_type": "code",
   "execution_count": 26,
   "id": "d72f8817",
   "metadata": {},
   "outputs": [],
   "source": [
    "#CHECKING MODEL WITH GRAPHICS\n",
    "\n",
    "HistoryDict2 = MLP_model.history\n",
    "\n",
    "val_losses = HistoryDict2[\"val_loss\"]\n",
    "val_acc = HistoryDict2[\"val_accuracy\"]\n",
    "acc = HistoryDict2[\"accuracy\"]\n",
    "losses = HistoryDict2[\"loss\"]\n",
    "epochs = range(1,len(losses)+1)"
   ]
  },
  {
   "cell_type": "code",
   "execution_count": 28,
   "id": "c85a9eb3",
   "metadata": {},
   "outputs": [
    {
     "data": {
      "image/png": "[encoded data removed]",
      "text/plain": [
       "<Figure size 432x288 with 1 Axes>"
      ]
     },
     "metadata": {
      "needs_background": "light"
     },
     "output_type": "display_data"
    }
   ],
   "source": [
    "plt.plot(epochs,acc,\"k-\",label=\"ACCURACY\")\n",
    "plt.plot(epochs,val_acc,\"ro\",label=\"ACCURACY VALIDATION\")\n",
    "plt.title(\"ACCURACY & ACCURACY VAL\")\n",
    "plt.xlabel(\"EPOCH\")\n",
    "plt.ylabel(\"ACCURACY & ACCURACY VAL\")\n",
    "plt.legend()\n",
    "plt.show()\n"
   ]
  },
  {
   "cell_type": "code",
   "execution_count": 24,
   "id": "a5f95d0d",
   "metadata": {},
   "outputs": [
    {
     "data": {
      "image/png": "[encoded data removed]",
      "text/plain": [
       "<Figure size 432x288 with 1 Axes>"
      ]
     },
     "metadata": {
      "needs_background": "light"
     },
     "output_type": "display_data"
    }
   ],
   "source": [
    "plt.plot(epochs,losses,\"k-\",label=\"LOSS\")\n",
    "plt.plot(epochs,val_losses,\"ro\",label=\"LOSS VALIDATION\")\n",
    "plt.title(\"LOSS & LOSS VAL\")\n",
    "plt.xlabel(\"EPOCH\")\n",
    "plt.ylabel(\"LOSS & LOSS VAL\")\n",
    "plt.legend()\n",
    "plt.show()"
   ]
  },
  {
   "cell_type": "code",
   "execution_count": 27,
   "id": "582fe4c9",
   "metadata": {},
   "outputs": [
    {
     "data": {
      "text/plain": [
       "<AxesSubplot:>"
      ]
     },
     "execution_count": 27,
     "metadata": {},
     "output_type": "execute_result"
    },
    {
     "data": {
      "image/png": "[encoded data removed]",
      "text/plain": [
       "<Figure size 432x288 with 1 Axes>"
      ]
     },
     "metadata": {
      "needs_background": "light"
     },
     "output_type": "display_data"
    }
   ],
   "source": [
    "import pandas as pd\n",
    "Dict_Summary = pd.DataFrame(MLP_model.history)\n",
    "Dict_Summary.plot()"
   ]
  },
  {
   "cell_type": "code",
   "execution_count": 18,
   "id": "7ebb08a8",
   "metadata": {},
   "outputs": [
    {
     "name": "stdout",
     "output_type": "stream",
     "text": [
      "5/5 [==============================] - 1s 178ms/step - loss: 0.6945 - accuracy: 0.4667\n",
      "Test Accuracy:  0.46666666865348816 \n",
      "Test Loss:  0.6945310235023499\n"
     ]
    }
   ],
   "source": [
    "# Get the accuracy of test data set\n",
    "#\n",
    "test_loss, test_acc = model.evaluate(test_x, test_y)\n",
    "#\n",
    "# Print the test accuracy\n",
    "#\n",
    "print('Test Accuracy: ', test_acc, '\\nTest Loss: ', test_loss)"
   ]
  },
  {
   "cell_type": "code",
   "execution_count": 19,
   "id": "9a4c3c4e",
   "metadata": {},
   "outputs": [
    {
     "data": {
      "text/plain": [
       "[0.5052631497383118,\n",
       " 0.4933333396911621,\n",
       " 0.5115789771080017,\n",
       " 0.5073684453964233,\n",
       " 0.49614036083221436,\n",
       " 0.5108771920204163,\n",
       " 0.4975438714027405,\n",
       " 0.4968421161174774,\n",
       " 0.5024561285972595,\n",
       " 0.5059649348258972,\n",
       " 0.49824562668800354,\n",
       " 0.5045614242553711,\n",
       " 0.49052631855010986,\n",
       " 0.48140349984169006,\n",
       " 0.48561403155326843,\n",
       " 0.503157913684845,\n",
       " 0.5024561285972595,\n",
       " 0.49473685026168823,\n",
       " 0.4975438714027405,\n",
       " 0.5017544031143188,\n",
       " 0.5010526180267334,\n",
       " 0.5066666603088379,\n",
       " 0.49473685026168823,\n",
       " 0.4884210526943207,\n",
       " 0.4954386055469513,\n",
       " 0.48140349984169006,\n",
       " 0.5087719559669495,\n",
       " 0.5045614242553711,\n",
       " 0.5073684453964233,\n",
       " 0.4933333396911621]"
      ]
     },
     "execution_count": 19,
     "metadata": {},
     "output_type": "execute_result"
    }
   ],
   "source": [
    "MLP_model.history['accuracy']"
   ]
  },
  {
   "cell_type": "code",
   "execution_count": null,
   "id": "6487997f",
   "metadata": {},
   "outputs": [],
   "source": []
  },
  {
   "cell_type": "code",
   "execution_count": null,
   "id": "bfc5dae2",
   "metadata": {},
   "outputs": [],
   "source": []
  },
  {
   "cell_type": "code",
   "execution_count": null,
   "id": "fccc744b",
   "metadata": {},
   "outputs": [],
   "source": []
  },
  {
   "cell_type": "code",
   "execution_count": null,
   "id": "35ed9992",
   "metadata": {},
   "outputs": [],
   "source": []
  },
  {
   "cell_type": "code",
   "execution_count": null,
   "id": "d41e61b8",
   "metadata": {},
   "outputs": [],
   "source": []
  },
  {
   "cell_type": "code",
   "execution_count": null,
   "id": "5ca20957",
   "metadata": {},
   "outputs": [],
   "source": []
  },
  {
   "cell_type": "code",
   "execution_count": null,
   "id": "a24bff7d",
   "metadata": {},
   "outputs": [],
   "source": [
    "\n"
   ]
  },
  {
   "cell_type": "code",
   "execution_count": null,
   "id": "a8b0d494",
   "metadata": {},
   "outputs": [],
   "source": []
  },
  {
   "cell_type": "code",
   "execution_count": null,
   "id": "a9f8d27a",
   "metadata": {},
   "outputs": [],
   "source": []
  },
  {
   "cell_type": "code",
   "execution_count": null,
   "id": "75859b4f",
   "metadata": {},
   "outputs": [],
   "source": []
  },
  {
   "cell_type": "code",
   "execution_count": null,
   "id": "07cd6770",
   "metadata": {},
   "outputs": [],
   "source": []
  },
  {
   "cell_type": "code",
   "execution_count": null,
   "id": "4ecb8efb",
   "metadata": {},
   "outputs": [],
   "source": []
  },
  {
   "cell_type": "code",
   "execution_count": null,
   "id": "cc2bd5d8",
   "metadata": {},
   "outputs": [],
   "source": []
  },
  {
   "cell_type": "code",
   "execution_count": null,
   "id": "8512d6e3",
   "metadata": {},
   "outputs": [],
   "source": []
  },
  {
   "cell_type": "code",
   "execution_count": null,
   "id": "3c0d6e83",
   "metadata": {},
   "outputs": [],
   "source": []
  },
  {
   "cell_type": "code",
   "execution_count": null,
   "id": "7ff00b41",
   "metadata": {},
   "outputs": [],
   "source": []
  },
  {
   "cell_type": "code",
   "execution_count": null,
   "id": "a99a429a",
   "metadata": {},
   "outputs": [],
   "source": []
  },
  {
   "cell_type": "code",
   "execution_count": null,
   "id": "cba54dba",
   "metadata": {},
   "outputs": [],
   "source": []
  },
  {
   "cell_type": "code",
   "execution_count": null,
   "id": "45fdea63",
   "metadata": {},
   "outputs": [],
   "source": []
  },
  {
   "cell_type": "code",
   "execution_count": null,
   "id": "93ecbfa7",
   "metadata": {},
   "outputs": [],
   "source": []
  },
  {
   "cell_type": "code",
   "execution_count": null,
   "id": "b3a22fe9",
   "metadata": {},
   "outputs": [],
   "source": []
  },
  {
   "cell_type": "code",
   "execution_count": null,
   "id": "00a1db4d",
   "metadata": {},
   "outputs": [],
   "source": [
    "\n"
   ]
  },
  {
   "cell_type": "code",
   "execution_count": null,
   "id": "4b4f1f46",
   "metadata": {},
   "outputs": [],
   "source": []
  }
 ],
 "metadata": {
  "kernelspec": {
   "display_name": "Python 3 (ipykernel)",
   "language": "python",
   "name": "python3"
  },
  "language_info": {
   "codemirror_mode": {
    "name": "ipython",
    "version": 3
   },
   "file_extension": ".py",
   "mimetype": "text/x-python",
   "name": "python",
   "nbconvert_exporter": "python",
   "pygments_lexer": "ipython3",
   "version": "3.9.12"
  }
 },
 "nbformat": 4,
 "nbformat_minor": 5
}
