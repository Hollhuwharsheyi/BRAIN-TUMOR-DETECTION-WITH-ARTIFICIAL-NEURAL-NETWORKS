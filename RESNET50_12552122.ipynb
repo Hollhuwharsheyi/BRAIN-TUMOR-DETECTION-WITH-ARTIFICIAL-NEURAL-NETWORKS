{
 "cells": [
  {
   "cell_type": "code",
   "execution_count": 1,
   "id": "6c59ed33",
   "metadata": {},
   "outputs": [
    {
     "name": "stderr",
     "output_type": "stream",
     "text": [
      "C:\\ProgramData\\Anaconda3\\lib\\site-packages\\scipy\\__init__.py:146: UserWarning: A NumPy version >=1.16.5 and <1.23.0 is required for this version of SciPy (detected version 1.23.2\n",
      "  warnings.warn(f\"A NumPy version >={np_minversion} and <{np_maxversion}\"\n"
     ]
    }
   ],
   "source": [
    "import matplotlib.pyplot as plt\n",
    "import numpy as np\n",
    "import PIL\n",
    "import tensorflow as tf\n",
    "from tensorflow.keras.layers import Dense,Flatten\n",
    "from tensorflow.keras.models import Sequential\n",
    "from tensorflow.keras.optimizers import Adam\n",
    "from tensorflow.keras import layers\n",
    "from sklearn.metrics import confusion_matrix, accuracy_score, classification_report, roc_auc_score, roc_curve"
   ]
  },
  {
   "cell_type": "code",
   "execution_count": 2,
   "id": "b29e32f6",
   "metadata": {},
   "outputs": [],
   "source": [
    "imagedataset = str(\"C:/Users/DELL/archive2\")\n",
    "#imagedataset1 = str(\"C:/Users/DELL/Downloads/archive2/\")\n",
    "\n",
    "\n",
    "\n",
    "import pathlib\n",
    "\n",
    "data_dir = pathlib.Path(imagedataset)\n",
    "#data_dir1 = pathlib.Path(imagedataset1)"
   ]
  },
  {
   "cell_type": "code",
   "execution_count": 3,
   "id": "d7a29e3e",
   "metadata": {},
   "outputs": [
    {
     "name": "stdout",
     "output_type": "stream",
     "text": [
      "Found 3000 files belonging to 2 classes.\n",
      "Using 2400 files for training.\n"
     ]
    }
   ],
   "source": [
    "img_height,img_width=200,200\n",
    "batch_size=20\n",
    "train_ds = tf.keras.preprocessing.image_dataset_from_directory(\n",
    "  data_dir,\n",
    "  validation_split=0.2,\n",
    "  subset=\"training\",\n",
    "  seed=123,\n",
    "  label_mode='categorical',\n",
    "  image_size=(img_height, img_width),\n",
    "  batch_size=batch_size)"
   ]
  },
  {
   "cell_type": "code",
   "execution_count": 4,
   "id": "259f6c2e",
   "metadata": {},
   "outputs": [
    {
     "name": "stdout",
     "output_type": "stream",
     "text": [
      "Found 3000 files belonging to 2 classes.\n",
      "Using 600 files for validation.\n"
     ]
    }
   ],
   "source": [
    "val_ds = tf.keras.preprocessing.image_dataset_from_directory(\n",
    "  data_dir,\n",
    "  validation_split=0.2,\n",
    "  subset=\"validation\",\n",
    "  seed=123,\n",
    "  label_mode='categorical',\n",
    "  image_size=(img_height, img_width),\n",
    "  batch_size=batch_size)\n"
   ]
  },
  {
   "cell_type": "code",
   "execution_count": 5,
   "id": "a28e1ed5",
   "metadata": {},
   "outputs": [],
   "source": [
    "resnet_model = Sequential()\n",
    "\n",
    "pretrained_model= tf.keras.applications.ResNet50(include_top=False,\n",
    "                   input_shape=(200,200,3),\n",
    "                   pooling='avg',classes=2,\n",
    "                   weights='imagenet')\n",
    "for layer in pretrained_model.layers:\n",
    "        layer.trainable=False\n",
    "\n",
    "resnet_model.add(pretrained_model)"
   ]
  },
  {
   "cell_type": "code",
   "execution_count": 6,
   "id": "0d684330",
   "metadata": {},
   "outputs": [],
   "source": [
    "resnet_model.add(Flatten())\n",
    "resnet_model.add(Dense(512, activation='relu'))\n",
    "resnet_model.add(Dense(2, activation='softmax'))"
   ]
  },
  {
   "cell_type": "code",
   "execution_count": 7,
   "id": "85ab1f18",
   "metadata": {},
   "outputs": [
    {
     "name": "stdout",
     "output_type": "stream",
     "text": [
      "Model: \"sequential\"\n",
      "_________________________________________________________________\n",
      " Layer (type)                Output Shape              Param #   \n",
      "=================================================================\n",
      " resnet50 (Functional)       (None, 2048)              23587712  \n",
      "                                                                 \n",
      " flatten (Flatten)           (None, 2048)              0         \n",
      "                                                                 \n",
      " dense (Dense)               (None, 512)               1049088   \n",
      "                                                                 \n",
      " dense_1 (Dense)             (None, 2)                 1026      \n",
      "                                                                 \n",
      "=================================================================\n",
      "Total params: 24,637,826\n",
      "Trainable params: 1,050,114\n",
      "Non-trainable params: 23,587,712\n",
      "_________________________________________________________________\n"
     ]
    }
   ],
   "source": [
    "resnet_model.summary()"
   ]
  },
  {
   "cell_type": "code",
   "execution_count": 8,
   "id": "65e4e06e",
   "metadata": {},
   "outputs": [
    {
     "name": "stderr",
     "output_type": "stream",
     "text": [
      "C:\\Users\\DELL\\AppData\\Roaming\\Python\\Python39\\site-packages\\keras\\optimizers\\optimizer_v2\\adam.py:110: UserWarning: The `lr` argument is deprecated, use `learning_rate` instead.\n",
      "  super(Adam, self).__init__(name, **kwargs)\n"
     ]
    }
   ],
   "source": [
    "resnet_model.compile(optimizer=Adam(lr=0.001),loss='categorical_crossentropy',metrics=['accuracy'])\n",
    "\n"
   ]
  },
  {
   "cell_type": "code",
   "execution_count": 9,
   "id": "6050249b",
   "metadata": {},
   "outputs": [
    {
     "name": "stdout",
     "output_type": "stream",
     "text": [
      "Epoch 1/30\n",
      "120/120 [==============================] - 630s 5s/step - loss: 0.3456 - accuracy: 0.8904 - val_loss: 0.1703 - val_accuracy: 0.9400\n",
      "Epoch 2/30\n",
      "120/120 [==============================] - 640s 5s/step - loss: 0.0851 - accuracy: 0.9767 - val_loss: 0.0848 - val_accuracy: 0.9750\n",
      "Epoch 3/30\n",
      "120/120 [==============================] - 638s 5s/step - loss: 0.0746 - accuracy: 0.9742 - val_loss: 0.0794 - val_accuracy: 0.9750\n",
      "Epoch 4/30\n",
      "120/120 [==============================] - 701s 6s/step - loss: 0.0284 - accuracy: 0.9900 - val_loss: 0.0702 - val_accuracy: 0.9800\n",
      "Epoch 5/30\n",
      "120/120 [==============================] - 682s 6s/step - loss: 0.0198 - accuracy: 0.9958 - val_loss: 0.0958 - val_accuracy: 0.9633\n",
      "Epoch 6/30\n",
      "120/120 [==============================] - 666s 6s/step - loss: 0.0326 - accuracy: 0.9883 - val_loss: 0.0737 - val_accuracy: 0.9783\n",
      "Epoch 7/30\n",
      "120/120 [==============================] - 652s 5s/step - loss: 0.0150 - accuracy: 0.9950 - val_loss: 0.0689 - val_accuracy: 0.9817\n",
      "Epoch 8/30\n",
      "120/120 [==============================] - 705s 6s/step - loss: 0.0037 - accuracy: 0.9996 - val_loss: 0.0862 - val_accuracy: 0.9750\n",
      "Epoch 9/30\n",
      "120/120 [==============================] - 609s 5s/step - loss: 0.0194 - accuracy: 0.9937 - val_loss: 0.0753 - val_accuracy: 0.9783\n",
      "Epoch 10/30\n",
      "120/120 [==============================] - 607s 5s/step - loss: 0.0186 - accuracy: 0.9933 - val_loss: 0.0701 - val_accuracy: 0.9800\n",
      "Epoch 11/30\n",
      "120/120 [==============================] - 654s 5s/step - loss: 0.0022 - accuracy: 1.0000 - val_loss: 0.0711 - val_accuracy: 0.9800\n",
      "Epoch 12/30\n",
      "120/120 [==============================] - 652s 5s/step - loss: 7.0540e-04 - accuracy: 1.0000 - val_loss: 0.0654 - val_accuracy: 0.9817\n",
      "Epoch 13/30\n",
      "120/120 [==============================] - 690s 6s/step - loss: 4.1429e-04 - accuracy: 1.0000 - val_loss: 0.0670 - val_accuracy: 0.9817\n",
      "Epoch 14/30\n",
      "120/120 [==============================] - 715s 6s/step - loss: 3.3119e-04 - accuracy: 1.0000 - val_loss: 0.0681 - val_accuracy: 0.9833\n",
      "Epoch 15/30\n",
      "120/120 [==============================] - 657s 5s/step - loss: 2.8373e-04 - accuracy: 1.0000 - val_loss: 0.0683 - val_accuracy: 0.9817\n",
      "Epoch 16/30\n",
      "120/120 [==============================] - 697s 6s/step - loss: 2.4396e-04 - accuracy: 1.0000 - val_loss: 0.0689 - val_accuracy: 0.9833\n",
      "Epoch 17/30\n",
      "120/120 [==============================] - 685s 6s/step - loss: 2.2239e-04 - accuracy: 1.0000 - val_loss: 0.0702 - val_accuracy: 0.9817\n",
      "Epoch 18/30\n",
      "120/120 [==============================] - 674s 6s/step - loss: 1.9465e-04 - accuracy: 1.0000 - val_loss: 0.0699 - val_accuracy: 0.9817\n",
      "Epoch 19/30\n",
      "120/120 [==============================] - 709s 6s/step - loss: 1.7822e-04 - accuracy: 1.0000 - val_loss: 0.0706 - val_accuracy: 0.9817\n",
      "Epoch 20/30\n",
      "120/120 [==============================] - 641s 5s/step - loss: 1.6156e-04 - accuracy: 1.0000 - val_loss: 0.0709 - val_accuracy: 0.9817\n",
      "Epoch 21/30\n",
      "120/120 [==============================] - 714s 6s/step - loss: 1.4244e-04 - accuracy: 1.0000 - val_loss: 0.0716 - val_accuracy: 0.9817\n",
      "Epoch 22/30\n",
      "120/120 [==============================] - 826s 7s/step - loss: 1.3298e-04 - accuracy: 1.0000 - val_loss: 0.0721 - val_accuracy: 0.9817\n",
      "Epoch 23/30\n",
      "120/120 [==============================] - 787s 7s/step - loss: 1.2129e-04 - accuracy: 1.0000 - val_loss: 0.0722 - val_accuracy: 0.9817\n",
      "Epoch 24/30\n",
      "120/120 [==============================] - 838s 7s/step - loss: 1.0948e-04 - accuracy: 1.0000 - val_loss: 0.0724 - val_accuracy: 0.9817\n",
      "Epoch 25/30\n",
      "120/120 [==============================] - 648s 5s/step - loss: 9.8087e-05 - accuracy: 1.0000 - val_loss: 0.0734 - val_accuracy: 0.9833\n",
      "Epoch 26/30\n",
      "120/120 [==============================] - 643s 5s/step - loss: 9.4288e-05 - accuracy: 1.0000 - val_loss: 0.0734 - val_accuracy: 0.9817\n",
      "Epoch 27/30\n",
      "120/120 [==============================] - 628s 5s/step - loss: 8.3999e-05 - accuracy: 1.0000 - val_loss: 0.0737 - val_accuracy: 0.9833\n",
      "Epoch 28/30\n",
      "120/120 [==============================] - 643s 5s/step - loss: 7.7294e-05 - accuracy: 1.0000 - val_loss: 0.0741 - val_accuracy: 0.9817\n",
      "Epoch 29/30\n",
      "120/120 [==============================] - 715s 6s/step - loss: 7.3073e-05 - accuracy: 1.0000 - val_loss: 0.0750 - val_accuracy: 0.9833\n",
      "Epoch 30/30\n",
      "120/120 [==============================] - 663s 6s/step - loss: 6.7510e-05 - accuracy: 1.0000 - val_loss: 0.0748 - val_accuracy: 0.9833\n"
     ]
    }
   ],
   "source": [
    "history = resnet_model.fit(train_ds, validation_data=val_ds, epochs=30)"
   ]
  },
  {
   "cell_type": "code",
   "execution_count": 10,
   "id": "64818150",
   "metadata": {},
   "outputs": [],
   "source": [
    "resnet_model.save('final_model.h5')"
   ]
  },
  {
   "cell_type": "code",
   "execution_count": 11,
   "id": "6e13ee93",
   "metadata": {},
   "outputs": [],
   "source": [
    "#CHECKING MODEL WITH GRAPHICS\n",
    "\n",
    "resnet_model = history\n",
    "\n",
    "\n",
    "HistoryDict = resnet_model.history\n",
    "\n",
    "val_losses = HistoryDict[\"val_loss\"]\n",
    "val_acc = HistoryDict[\"val_accuracy\"]\n",
    "acc = HistoryDict[\"accuracy\"]\n",
    "losses =HistoryDict[\"loss\"]\n",
    "epochs = range(1,len(val_losses)+1)"
   ]
  },
  {
   "cell_type": "code",
   "execution_count": 12,
   "id": "b7eabbb7",
   "metadata": {},
   "outputs": [
    {
     "name": "stderr",
     "output_type": "stream",
     "text": [
      "No artists with labels found to put in legend.  Note that artists whose label start with an underscore are ignored when legend() is called with no argument.\n"
     ]
    },
    {
     "data": {
      "image/png": "[encoded data removed]",
      "text/plain": [
       "<Figure size 432x288 with 1 Axes>"
      ]
     },
     "metadata": {
      "needs_background": "light"
     },
     "output_type": "display_data"
    }
   ],
   "source": [
    "plt.plot(resnet_model.history[\"accuracy\"])\n",
    "plt.plot(resnet_model.history[\"val_accuracy\"])\n",
    "plt.ylabel(\"ACCURACY\")\n",
    "plt.legend()\n",
    "plt.show()"
   ]
  },
  {
   "cell_type": "code",
   "execution_count": 13,
   "id": "163ca402",
   "metadata": {},
   "outputs": [
    {
     "data": {
      "image/png": "[encoded data removed]",
      "text/plain": [
       "<Figure size 432x288 with 1 Axes>"
      ]
     },
     "metadata": {
      "needs_background": "light"
     },
     "output_type": "display_data"
    }
   ],
   "source": [
    "plt.plot(epochs,losses,\"k-\",label=\"LOSS\")\n",
    "plt.plot(epochs,val_losses,\"ro\",label=\"LOSS VALIDATION\")\n",
    "plt.title(\"LOSS & LOSS VAL\")\n",
    "plt.xlabel(\"EPOCH\")\n",
    "plt.ylabel(\"LOSS & LOSS VAL\")\n",
    "plt.legend()\n",
    "plt.show()"
   ]
  },
  {
   "cell_type": "code",
   "execution_count": 14,
   "id": "934bc494",
   "metadata": {},
   "outputs": [
    {
     "data": {
      "image/png": "[encoded data removed]",
      "text/plain": [
       "<Figure size 432x288 with 1 Axes>"
      ]
     },
     "metadata": {
      "needs_background": "light"
     },
     "output_type": "display_data"
    }
   ],
   "source": [
    "plt.plot(epochs,acc,\"k-\",label=\"ACCURACY\")\n",
    "plt.plot(epochs,val_acc,\"ro\",label=\"ACCURACY VALIDATION\")\n",
    "plt.title(\"ACCURACY & ACCURACY VAL\")\n",
    "plt.xlabel(\"EPOCH\")\n",
    "plt.ylabel(\"ACCURACY & ACCURACY VAL\")\n",
    "plt.legend()\n",
    "plt.show()"
   ]
  },
  {
   "cell_type": "code",
   "execution_count": 15,
   "id": "92f3f101",
   "metadata": {},
   "outputs": [
    {
     "data": {
      "text/plain": [
       "<AxesSubplot:>"
      ]
     },
     "execution_count": 15,
     "metadata": {},
     "output_type": "execute_result"
    },
    {
     "data": {
      "image/png": "[encoded data removed]",
      "text/plain": [
       "<Figure size 432x288 with 1 Axes>"
      ]
     },
     "metadata": {
      "needs_background": "light"
     },
     "output_type": "display_data"
    }
   ],
   "source": [
    "import pandas as pd\n",
    "Dict_Summary = pd.DataFrame(resnet_model.history)\n",
    "Dict_Summary.plot()"
   ]
  },
  {
   "cell_type": "code",
   "execution_count": 16,
   "id": "96cbf298",
   "metadata": {},
   "outputs": [
    {
     "data": {
      "image/png": "[encoded data removed]",
      "text/plain": [
       "<Figure size 432x288 with 1 Axes>"
      ]
     },
     "metadata": {
      "needs_background": "light"
     },
     "output_type": "display_data"
    }
   ],
   "source": [
    "fig1 = plt.gcf()\n",
    "plt.plot(history.history['accuracy'])\n",
    "plt.plot(history.history['val_accuracy'])\n",
    "plt.axis(ymin=0.4,ymax=1)\n",
    "plt.grid()\n",
    "plt.title('Model Accuracy')\n",
    "plt.ylabel('Accuracy')\n",
    "plt.xlabel('Epochs')\n",
    "plt.legend(['train', 'validation'])\n",
    "plt.show()"
   ]
  },
  {
   "cell_type": "code",
   "execution_count": 17,
   "id": "b8fcced4",
   "metadata": {},
   "outputs": [
    {
     "data": {
      "text/plain": [
       "[0.89041668176651,\n",
       " 0.9766666889190674,\n",
       " 0.9741666913032532,\n",
       " 0.9900000095367432,\n",
       " 0.9958333373069763,\n",
       " 0.9883333444595337,\n",
       " 0.9950000047683716,\n",
       " 0.9995833039283752,\n",
       " 0.9937499761581421,\n",
       " 0.9933333396911621,\n",
       " 1.0,\n",
       " 1.0,\n",
       " 1.0,\n",
       " 1.0,\n",
       " 1.0,\n",
       " 1.0,\n",
       " 1.0,\n",
       " 1.0,\n",
       " 1.0,\n",
       " 1.0,\n",
       " 1.0,\n",
       " 1.0,\n",
       " 1.0,\n",
       " 1.0,\n",
       " 1.0,\n",
       " 1.0,\n",
       " 1.0,\n",
       " 1.0,\n",
       " 1.0,\n",
       " 1.0]"
      ]
     },
     "execution_count": 17,
     "metadata": {},
     "output_type": "execute_result"
    }
   ],
   "source": [
    "resnet_model.history['accuracy']"
   ]
  },
  {
   "cell_type": "code",
   "execution_count": 18,
   "id": "309a5df4",
   "metadata": {},
   "outputs": [
    {
     "name": "stdout",
     "output_type": "stream",
     "text": [
      "Found 3000 files belonging to 2 classes.\n",
      "Using 300 files for validation.\n"
     ]
    }
   ],
   "source": [
    "img_height,img_width=200,200\n",
    "batch_size=20\n",
    "test_ds = tf.keras.preprocessing.image_dataset_from_directory(\n",
    "  data_dir,\n",
    "  validation_split=0.1,\n",
    "  subset=\"validation\",\n",
    "  seed=123,\n",
    "  label_mode='categorical',\n",
    "  image_size=(img_height, img_width),\n",
    "  batch_size=batch_size)"
   ]
  },
  {
   "cell_type": "code",
   "execution_count": 21,
   "id": "c8e0963b",
   "metadata": {},
   "outputs": [
    {
     "name": "stdout",
     "output_type": "stream",
     "text": [
      "15/15 [==============================] - 62s 4s/step - loss: 0.0718 - accuracy: 0.9900\n",
      "[0.07176804542541504, 0.9900000095367432]\n",
      "LOSS:  0.0718\n",
      "ACCURACY:  0.99\n"
     ]
    }
   ],
   "source": [
    "from keras.models import load_model\n",
    "new_model = tf.keras.models.load_model('final_model.h5')\n",
    "Model_Results = new_model.evaluate(test_ds,verbose=True)\n",
    "print(Model_Results)\n",
    "print(\"LOSS:  \" + \"%.4f\" % Model_Results[0])\n",
    "print(\"ACCURACY:  \" + \"%.2f\" % Model_Results[1])"
   ]
  },
  {
   "cell_type": "code",
   "execution_count": null,
   "id": "0ef4357a",
   "metadata": {},
   "outputs": [],
   "source": []
  }
 ],
 "metadata": {
  "kernelspec": {
   "display_name": "Python 3 (ipykernel)",
   "language": "python",
   "name": "python3"
  },
  "language_info": {
   "codemirror_mode": {
    "name": "ipython",
    "version": 3
   },
   "file_extension": ".py",
   "mimetype": "text/x-python",
   "name": "python",
   "nbconvert_exporter": "python",
   "pygments_lexer": "ipython3",
   "version": "3.9.12"
  }
 },
 "nbformat": 4,
 "nbformat_minor": 5
}
